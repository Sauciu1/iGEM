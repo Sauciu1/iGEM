{
 "cells": [
  {
   "cell_type": "code",
   "execution_count": 1,
   "id": "f95d2eb6",
   "metadata": {},
   "outputs": [],
   "source": [
    "import time\n",
    "import matplotlib.image as mpimg\n",
    "import matplotlib.pyplot as plt\n",
    "import pymol\n",
    "from pymol import cmd\n",
    "import pandas as pd\n",
    "import zipfile\n",
    "import os"
   ]
  },
  {
   "cell_type": "code",
   "execution_count": 2,
   "id": "55e2b1f3",
   "metadata": {},
   "outputs": [],
   "source": [
    "def unzip(base_dir, zip_name):\n",
    "    zip_path = os.path.join(base_dir, zip_name)\n",
    "    extract_dir = os.path.join(base_dir, zip_name.replace('.zip', ''))\n",
    "    with zipfile.ZipFile(zip_path, 'r') as zip_ref:\n",
    "        zip_ref.extractall(extract_dir)"
   ]
  },
  {
   "cell_type": "code",
   "execution_count": 3,
   "id": "936e4d26",
   "metadata": {},
   "outputs": [
    {
     "name": "stdout",
     "output_type": "stream",
     "text": [
      "fold_crt_cgmcc_b\n",
      "fold_crt_cgmcc_b.zip\n",
      "fold_crt_cgmcc_i\n",
      "fold_crt_cgmcc_i.zip\n",
      "fold_crt_cgmcc_y\n",
      "fold_crt_cgmcc_y.zip\n",
      "fold_crt_milletiae_b\n",
      "fold_crt_milletiae_b.zip\n",
      "fold_crt_milletiae_i\n",
      "fold_crt_milletiae_i.zip\n",
      "fold_crt_milletiae_y\n",
      "fold_crt_milletiae_y.zip\n"
     ]
    }
   ],
   "source": [
    "base_dir = 'data/crt'\n",
    "for item in os.listdir(base_dir):\n",
    "    print(item)\n",
    "\n",
    "\n"
   ]
  },
  {
   "cell_type": "code",
   "execution_count": 4,
   "id": "1b1a7b84",
   "metadata": {},
   "outputs": [],
   "source": [
    "for zip_name in os.listdir(base_dir):\n",
    "    if zip_name.endswith('.zip'):\n",
    "        unzip(base_dir, zip_name)\n",
    "\n",
    "def get_cif(folder_path):\n",
    "    for file in os.listdir(folder_path):\n",
    "        if file.endswith('0.cif'):\n",
    "            return file, os.path.join(folder_path, file)\n",
    "        \n",
    "def get_multiple_cifs(base_dir):\n",
    "    cif_files = []\n",
    "    for folder in os.listdir(base_dir):\n",
    "        folder = os.path.join(base_dir, folder)\n",
    "        if os.path.isdir(folder):\n",
    "            name, path = get_cif(folder)\n",
    "            cif_files.append((name, path))\n",
    "    return cif_files\n"
   ]
  },
  {
   "cell_type": "code",
   "execution_count": 5,
   "id": "87a3287b",
   "metadata": {},
   "outputs": [
    {
     "data": {
      "text/plain": [
       "[('fold_crt_cgmcc_b_model_0.cif',\n",
       "  'data/crt\\\\fold_crt_cgmcc_b\\\\fold_crt_cgmcc_b_model_0.cif'),\n",
       " ('fold_crt_cgmcc_i_model_0.cif',\n",
       "  'data/crt\\\\fold_crt_cgmcc_i\\\\fold_crt_cgmcc_i_model_0.cif'),\n",
       " ('fold_crt_cgmcc_y_model_0.cif',\n",
       "  'data/crt\\\\fold_crt_cgmcc_y\\\\fold_crt_cgmcc_y_model_0.cif'),\n",
       " ('fold_crt_milletiae_b_model_0.cif',\n",
       "  'data/crt\\\\fold_crt_milletiae_b\\\\fold_crt_milletiae_b_model_0.cif'),\n",
       " ('fold_crt_milletiae_i_model_0.cif',\n",
       "  'data/crt\\\\fold_crt_milletiae_i\\\\fold_crt_milletiae_i_model_0.cif'),\n",
       " ('fold_crt_milletiae_y_model_0.cif',\n",
       "  'data/crt\\\\fold_crt_milletiae_y\\\\fold_crt_milletiae_y_model_0.cif')]"
      ]
     },
     "execution_count": 5,
     "metadata": {},
     "output_type": "execute_result"
    }
   ],
   "source": [
    "cif_files = get_multiple_cifs(base_dir)\n",
    "cif_files"
   ]
  },
  {
   "cell_type": "code",
   "execution_count": 6,
   "id": "b80da707",
   "metadata": {},
   "outputs": [],
   "source": [
    "pymol.finish_launching()\n",
    "time.sleep(5)"
   ]
  },
  {
   "cell_type": "code",
   "execution_count": 7,
   "id": "faf286bc",
   "metadata": {},
   "outputs": [],
   "source": [
    "import os\n",
    "\n",
    "def align_proteins(path1, path2):\n",
    "    common_dir = os.path.commonpath([path1, path2])\n",
    "    #cmd.do(f\"cd {common_dir}\")\n",
    "\n",
    "    x = lambda path: os.path.basename(path).replace('.cif', '')\n",
    "    obj1 = x(path1)\n",
    "    obj2 = x(path2)\n",
    "\n",
    "    cmd.load(path1, obj1)\n",
    "    cmd.load(path2, obj2)\n",
    "    cmd.color(\"red\", obj1)\n",
    "    cmd.color(\"green\", obj2)\n",
    "    cmd.align(obj2, obj1)\n",
    "\n",
    "\n",
    "align_proteins(r'data/crt\\\\fold_crt_cgmcc_b\\\\fold_crt_cgmcc_b_model_0.cif', \n",
    "               r'data/crt\\\\fold_crt_milletiae_b\\\\fold_crt_milletiae_b_model_0.cif')\n"
   ]
  },
  {
   "cell_type": "code",
   "execution_count": 8,
   "id": "8cbeaba9",
   "metadata": {},
   "outputs": [],
   "source": [
    "align_proteins(r'data/crt\\\\fold_crt_cgmcc_i\\\\fold_crt_cgmcc_i_model_0.cif',\n",
    "               r'data/crt\\\\fold_crt_milletiae_i\\\\fold_crt_milletiae_i_model_0.cif')\n"
   ]
  },
  {
   "cell_type": "code",
   "execution_count": 11,
   "id": "a037697f",
   "metadata": {},
   "outputs": [],
   "source": [
    "align_proteins(r'data/crt\\\\fold_crt_milletiae_y\\\\fold_crt_milletiae_y_model_0.cif',\n",
    "               r'data/crt\\\\fold_crt_cgmcc_y\\\\fold_crt_cgmcc_y_model_0.cif')"
   ]
  },
  {
   "cell_type": "code",
   "execution_count": null,
   "id": "bddaaf64",
   "metadata": {},
   "outputs": [],
   "source": []
  }
 ],
 "metadata": {
  "kernelspec": {
   "display_name": "iGEM",
   "language": "python",
   "name": "python3"
  },
  "language_info": {
   "codemirror_mode": {
    "name": "ipython",
    "version": 3
   },
   "file_extension": ".py",
   "mimetype": "text/x-python",
   "name": "python",
   "nbconvert_exporter": "python",
   "pygments_lexer": "ipython3",
   "version": "3.12.11"
  }
 },
 "nbformat": 4,
 "nbformat_minor": 5
}
