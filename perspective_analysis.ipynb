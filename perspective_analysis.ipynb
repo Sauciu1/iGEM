{
 "cells": [
  {
   "cell_type": "markdown",
   "id": "f7969ed6",
   "metadata": {},
   "source": [
    "# Introduction"
   ]
  },
  {
   "cell_type": "markdown",
   "id": "35684233",
   "metadata": {},
   "source": [
    "This analysis concerns Imperial (Imperial College London) iGEM's form **Perspectives on Synthetic Biology:  Public Awareness & Trust**\n",
    "\n",
    "Analysis was performed by Povilas Šaučiuvienas (@Sauciu1) on 18-09 2025.\n",
    "\n",
    "Notable amendments (date):\n",
    "    None"
   ]
  },
  {
   "cell_type": "markdown",
   "id": "48e869b8",
   "metadata": {},
   "source": [
    "### Form background"
   ]
  },
  {
   "cell_type": "markdown",
   "id": "69452658",
   "metadata": {},
   "source": [
    "The form was created by Szonja Skenderovic on ~10-09 2025 in partnership with iGEM teams from Yale and MIT-MAHE.\n",
    "\n",
    "Forms is/was accessible on: https://docs.google.com/forms/d/1O7QRPuyY1qxkLvJNcD5lfhRjfv0EN9P5bYNCSFxFzhg/edit\n",
    "* Form has closed on 17-09-2025 and ran for ~ a week.\n",
    "\n",
    "Similar information should've been collected by Yale and MIT-MAHE. However, I've not yet access to the data.\n",
    "\n",
    "* On ~14-09-2025, I have performed slight restructuring of the form, to make it more amiable towards data analysis (conversion of quantitative to qualitative questions). However, in spirit of maintaining similarity with forms from mother groups, more serious changes could not be carried out.\n",
    "\n",
    "As far as I'm aware, information was collected almost exclusively in Europe (will likely be more negatively biased than the US market)."
   ]
  },
  {
   "cell_type": "code",
   "execution_count": 11,
   "id": "485b8c94",
   "metadata": {},
   "outputs": [
    {
     "name": "stdout",
     "output_type": "stream",
     "text": [
      "<class 'pandas.core.frame.DataFrame'>\n",
      "RangeIndex: 40 entries, 0 to 39\n",
      "Data columns (total 25 columns):\n",
      " #   Column                                                                                                                                Non-Null Count  Dtype  \n",
      "---  ------                                                                                                                                --------------  -----  \n",
      " 0   Timestamp                                                                                                                             40 non-null     object \n",
      " 1   How familiar are you with the area of synthetic biology?                                                                              40 non-null     object \n",
      " 2   Which of the following applications of synthetic biology are you already familiar with?                                               36 non-null     object \n",
      " 3   Would you be willing to eat food grown using synthetic biology (e.g., cultivated/lab-grown meat, GM crops)?                           29 non-null     object \n",
      " 4    Why or why not?                                                                                                                      35 non-null     object \n",
      " 5   Where did you find this survey?                                                                                                       28 non-null     object \n",
      " 6   What is your age?                                                                                                                     29 non-null     float64\n",
      " 7   What is your gender?                                                                                                                  29 non-null     object \n",
      " 8   What is your highest education level achieved?                                                                                        29 non-null     object \n",
      " 9   How concerned are you about possible risks of synthetic biology?                                                                      40 non-null     object \n",
      " 10  Do you think the potential benefits of synthetic biology outweigh the risks?                                                          40 non-null     object \n",
      " 11   Why or why not?.1                                                                                                                    40 non-null     object \n",
      " 12  How much do you trust science today compared to a few years ago?                                                                      40 non-null     object \n",
      " 13  Why?                                                                                                                                  39 non-null     object \n",
      " 14  What factor most influences your trust in biology related technologies?                                                               40 non-null     object \n",
      " 15  What would help you feel more connected to the science being done in your country, and to the field of synthetic biology as a whole?  25 non-null     object \n",
      " 16  How important do you think it is for the public to be involved in decisions about how synthetic biology is used?                      40 non-null     int64  \n",
      " 17  How much say should ordinary citizens have in decisions about synthetic biology?                                                      40 non-null     object \n",
      " 18  Do you believe public policy should influence scientific research                                                                     28 non-null     float64\n",
      " 19  What limits should we place on synthetic biology research to ensure it is ethical?                                                    30 non-null     object \n",
      " 20  Are there areas where you think synthetic biology should never be applied?\n",
      "                                                           27 non-null     object \n",
      " 21  In 50 years, if synthetic biology could completely reshape how we live, what change would you most want to see?                       40 non-null     object \n",
      " 22  Have you ever changed your opinion about a scientific issue? What changed it?                                                         37 non-null     object \n",
      " 23  “I would support funding for synthetic biology research.”                                                                             40 non-null     int64  \n",
      " 24  Any final thoughts?\n",
      "                                                                                                                  9 non-null      object \n",
      "dtypes: float64(2), int64(2), object(21)\n",
      "memory usage: 7.9+ KB\n"
     ]
    }
   ],
   "source": [
    "import pandas as pd\n",
    "df = pd.read_csv('data/HP/Perspectives on Synthetic Biology.csv')\n",
    "df.info()"
   ]
  },
  {
   "cell_type": "markdown",
   "id": "aa8d440c",
   "metadata": {},
   "source": [
    "For simplicity, questions will be accessed by their id (.iloc[row, col]) instead of changing names"
   ]
  },
  {
   "cell_type": "markdown",
   "id": "ffdae49f",
   "metadata": {},
   "source": [
    "# EDA\n",
    "As the data will not be used for model generation and includes relatively few responses ~40, data cleaning is performed ad hoc will not be exclusively separated."
   ]
  },
  {
   "cell_type": "markdown",
   "id": "2aace75e",
   "metadata": {},
   "source": [
    "## General Info"
   ]
  }
 ],
 "metadata": {
  "kernelspec": {
   "display_name": "iGEM",
   "language": "python",
   "name": "python3"
  },
  "language_info": {
   "codemirror_mode": {
    "name": "ipython",
    "version": 3
   },
   "file_extension": ".py",
   "mimetype": "text/x-python",
   "name": "python",
   "nbconvert_exporter": "python",
   "pygments_lexer": "ipython3",
   "version": "3.12.11"
  }
 },
 "nbformat": 4,
 "nbformat_minor": 5
}
