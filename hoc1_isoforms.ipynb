{
 "cells": [
  {
   "cell_type": "code",
   "execution_count": 1,
   "id": "e8c31d0f",
   "metadata": {},
   "outputs": [],
   "source": [
    "import time\n",
    "import matplotlib.image as mpimg\n",
    "import matplotlib.pyplot as plt\n",
    "import pymol\n",
    "from pymol import cmd\n",
    "import pandas as pd\n",
    "\n",
    "pymol.finish_launching()\n",
    "time.sleep(5)\n",
    "cmd.do(\"cd data/hoc1\")"
   ]
  },
  {
   "cell_type": "code",
   "execution_count": null,
   "id": "127bd884",
   "metadata": {},
   "outputs": [],
   "source": [
    "tr_exons = \"tr_hoc1_exons\"\n",
    "cmd.load(\"fold_hoc1_exons_model_0.cif\", tr_exons)\n",
    "cmd.color(\"red\", tr_exons)"
   ]
  },
  {
   "cell_type": "code",
   "execution_count": 3,
   "id": "8c7f9736",
   "metadata": {},
   "outputs": [
    {
     "data": {
      "text/plain": [
       "(1.8289605379104614, 1557, 5, 18.552846908569336, 2335, 1493.0, 286)"
      ]
     },
     "execution_count": 3,
     "metadata": {},
     "output_type": "execute_result"
    }
   ],
   "source": [
    "cmd.do(f\"fetchAF2 F2QVW2, HOC1_truncated\")\n",
    "cmd.color(\"green\", \"HOC1_truncated\")\n",
    "cmd.align(\"HOC1_truncated\", tr_exons)"
   ]
  },
  {
   "cell_type": "code",
   "execution_count": 3,
   "id": "b494fe63",
   "metadata": {},
   "outputs": [],
   "source": [
    "tr_repaired = \"tr_hoc1_repaired\"\n",
    "cmd.load(\"fold_hoc1_exons_repaired_model_0.cif\", tr_repaired)\n",
    "cmd.color(\"pink\", tr_repaired)"
   ]
  },
  {
   "cell_type": "code",
   "execution_count": 4,
   "id": "7df03356",
   "metadata": {},
   "outputs": [
    {
     "data": {
      "text/plain": [
       "(0.5805862545967102, 2020, 5, 20.708894729614258, 2746, 1184.5, 376)"
      ]
     },
     "execution_count": 4,
     "metadata": {},
     "output_type": "execute_result"
    }
   ],
   "source": [
    "cmd.do(\"fetchAF2 Q71A36, HOC1_full\")\n",
    "cmd.color(\"blue\", \"HOC1_full\")\n",
    "cmd.align(\"HOC1_full\", tr_repaired)"
   ]
  },
  {
   "cell_type": "code",
   "execution_count": 6,
   "id": "d4d59d1d",
   "metadata": {},
   "outputs": [
    {
     "data": {
      "text/plain": [
       "(1.2914659976959229, 1910, 5, 15.704680442810059, 2549, 860.5, 361)"
      ]
     },
     "execution_count": 6,
     "metadata": {},
     "output_type": "execute_result"
    }
   ],
   "source": [
    "yeast_hoc1 = \"yeast_hoc1\"\n",
    "\n",
    "cmd.do(\"fetchAF2 P47124, yeast_hoc1\")\n",
    "cmd.color(\"orange\", yeast_hoc1)\n",
    "cmd.align(yeast_hoc1, tr_repaired)"
   ]
  }
 ],
 "metadata": {
  "kernelspec": {
   "display_name": "iGEM",
   "language": "python",
   "name": "python3"
  },
  "language_info": {
   "codemirror_mode": {
    "name": "ipython",
    "version": 3
   },
   "file_extension": ".py",
   "mimetype": "text/x-python",
   "name": "python",
   "nbconvert_exporter": "python",
   "pygments_lexer": "ipython3",
   "version": "3.12.11"
  }
 },
 "nbformat": 4,
 "nbformat_minor": 5
}
