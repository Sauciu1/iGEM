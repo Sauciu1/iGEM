{
 "cells": [
  {
   "cell_type": "code",
   "execution_count": null,
   "id": "fc42e78a",
   "metadata": {},
   "outputs": [],
   "source": [
    "import pandas as pd"
   ]
  },
  {
   "cell_type": "markdown",
   "id": "9d1f2ea3",
   "metadata": {},
   "source": [
    "Set your original coding sequence"
   ]
  },
  {
   "cell_type": "code",
   "execution_count": 1,
   "id": "cc63f32e",
   "metadata": {},
   "outputs": [],
   "source": [
    "original_dna =\"ATGTACGAAAGATGTGAAGTTTCTTTGTTGGCGATTTTCTTGCAGCGCGATCGCGGTCGGAAAGTAATTTGGCTCACGGTTGGACTCATAACGGTGATATTGGTAATAATAAAGATTTCATCCAGCAAGTCCACCGCCACAGACCTTCAGAAAGTATTGAAGAATGCCAATATTTTACCGCAGGACGTGATCAATTACAATAGCAGAAAAGTAACGGATGAACTCGCTTCAAAGCTGGACGAGATTCAAAAGAAGTATCTCTCGAAGCAAGATGATAGAATTAGCAAGCTCGAAGCTGAACGGGCAGATCTACTGGAACAGGTTAGATTTCTAAGGAACCCCCCTGCAGGATCAAGTTTAAGAGAAAAATTGGCTTATCTGTTTCCTTATAATGAAAACGGCAAATTCCCTGCTTATATATGGCAAACATGGAAGTATGGCTTGAATGACGATCGGTTTGGAGAAAAGTTCAAAGAAGGCGAAACTCAGTGGGCTTCGAAGAATCCTGGTTTCGTTCATGAGTTGTTTAACGATGATACTTCCGGTGTGTTTATTCACCATCTGTATATCAATGTTCCAGAAGTGATCAAAGCATACGAGCTGCTTCCCAACATAATCTTGAAAATGGACTTCTTCAGATATTTGGTTTTATACGCCAAGGGAGGTGTCTATGCAGACGTTGATACTATGCCTCTTCAGCCTGTACCAAACTGGATTCCTGAAAATGTCTCCCCAAAAAGCATCGGGATGATCATTGGAATACAAAACGATGCTAACAATCCAGATTGGAAAAAAGATTACGTACATCGTCTACAATTTTCCAATTGGTGTATTCAAGCGAAGCCTGGTCACCCAATCTTGAGAGAATTAATCGCCAAAATCACAGAGGATACACTGCAACGAGCCGAGTCAAACTCACTGGAACTAGCTGACATTAGCGAAGAAGGCGGCCTGTCTGATAAGAATTTGTCCATTATGCAATGGACGGGTACTGGTATTTTTACAGATGCCATATTTACCTATTTTAATGACTACATTCAAAGTAGTATCTATACCAAAGTTACTTGGAAAGAATTCTCCAAATTGAGAAAGCCCAAGCTTGTCAGTGATGTATTGGTACTGCCGATTATCAGCTTCTCGGCCGGTGCAGGTAGTGGAAAATCGACTGAACTGAACGATCCCTTAGCATTCGTACAACATTATTTTGAAAGATTACATAACGACAACCACTAA\""
   ]
  },
  {
   "cell_type": "markdown",
   "id": "0b6df7dc",
   "metadata": {},
   "source": [
    "Read the codon table and encode it for DNA"
   ]
  },
  {
   "cell_type": "code",
   "execution_count": 10,
   "id": "3a6940ca",
   "metadata": {},
   "outputs": [
    {
     "name": "stderr",
     "output_type": "stream",
     "text": [
      "<>:1: SyntaxWarning: invalid escape sequence '\\d'\n",
      "<>:1: SyntaxWarning: invalid escape sequence '\\d'\n",
      "C:\\Users\\326po\\AppData\\Local\\Temp\\ipykernel_19784\\1831397788.py:1: SyntaxWarning: invalid escape sequence '\\d'\n",
      "  codon_table = pd.read_csv(\"data\\dna\\codon_usage_pichia_pastoris.csv\")\n"
     ]
    }
   ],
   "source": [
    "codon_table = pd.read_csv(\"data\\dna\\codon_usage_pichia_pastoris.csv\")\n",
    "codon_table[\"triplet\"] = codon_table[\"triplet\"].str.replace(\"U\", \"T\")"
   ]
  },
  {
   "cell_type": "markdown",
   "id": "c406f249",
   "metadata": {},
   "source": [
    "Include alternatives in the table"
   ]
  },
  {
   "cell_type": "code",
   "execution_count": 15,
   "id": "3496f54c",
   "metadata": {},
   "outputs": [
    {
     "data": {
      "text/html": [
       "<div>\n",
       "<style scoped>\n",
       "    .dataframe tbody tr th:only-of-type {\n",
       "        vertical-align: middle;\n",
       "    }\n",
       "\n",
       "    .dataframe tbody tr th {\n",
       "        vertical-align: top;\n",
       "    }\n",
       "\n",
       "    .dataframe thead th {\n",
       "        text-align: right;\n",
       "    }\n",
       "</style>\n",
       "<table border=\"1\" class=\"dataframe\">\n",
       "  <thead>\n",
       "    <tr style=\"text-align: right;\">\n",
       "      <th></th>\n",
       "      <th>triplet</th>\n",
       "      <th>amino_acid</th>\n",
       "      <th>fraction</th>\n",
       "      <th>frequency_per_thousand</th>\n",
       "      <th>count</th>\n",
       "      <th>alternatives</th>\n",
       "    </tr>\n",
       "  </thead>\n",
       "  <tbody>\n",
       "    <tr>\n",
       "      <th>0</th>\n",
       "      <td>TTT</td>\n",
       "      <td>F</td>\n",
       "      <td>0.54</td>\n",
       "      <td>24.1</td>\n",
       "      <td>1963</td>\n",
       "      <td>[TTC]</td>\n",
       "    </tr>\n",
       "    <tr>\n",
       "      <th>1</th>\n",
       "      <td>TCT</td>\n",
       "      <td>S</td>\n",
       "      <td>0.29</td>\n",
       "      <td>24.4</td>\n",
       "      <td>1983</td>\n",
       "      <td>[TCC, TCA, AGT, TCG, AGC]</td>\n",
       "    </tr>\n",
       "    <tr>\n",
       "      <th>2</th>\n",
       "      <td>TAT</td>\n",
       "      <td>Y</td>\n",
       "      <td>0.47</td>\n",
       "      <td>16.0</td>\n",
       "      <td>1300</td>\n",
       "      <td>[TAC]</td>\n",
       "    </tr>\n",
       "    <tr>\n",
       "      <th>3</th>\n",
       "      <td>TGT</td>\n",
       "      <td>C</td>\n",
       "      <td>0.64</td>\n",
       "      <td>7.7</td>\n",
       "      <td>626</td>\n",
       "      <td>[TGC]</td>\n",
       "    </tr>\n",
       "    <tr>\n",
       "      <th>4</th>\n",
       "      <td>TTC</td>\n",
       "      <td>F</td>\n",
       "      <td>0.46</td>\n",
       "      <td>20.6</td>\n",
       "      <td>1675</td>\n",
       "      <td>[TTT]</td>\n",
       "    </tr>\n",
       "    <tr>\n",
       "      <th>...</th>\n",
       "      <td>...</td>\n",
       "      <td>...</td>\n",
       "      <td>...</td>\n",
       "      <td>...</td>\n",
       "      <td>...</td>\n",
       "      <td>...</td>\n",
       "    </tr>\n",
       "    <tr>\n",
       "      <th>59</th>\n",
       "      <td>GGA</td>\n",
       "      <td>G</td>\n",
       "      <td>0.33</td>\n",
       "      <td>19.1</td>\n",
       "      <td>1550</td>\n",
       "      <td>[GGT, GGC, GGG]</td>\n",
       "    </tr>\n",
       "    <tr>\n",
       "      <th>60</th>\n",
       "      <td>GTG</td>\n",
       "      <td>V</td>\n",
       "      <td>0.19</td>\n",
       "      <td>12.3</td>\n",
       "      <td>998</td>\n",
       "      <td>[GTT, GTC, GTA]</td>\n",
       "    </tr>\n",
       "    <tr>\n",
       "      <th>61</th>\n",
       "      <td>GCG</td>\n",
       "      <td>A</td>\n",
       "      <td>0.06</td>\n",
       "      <td>3.9</td>\n",
       "      <td>314</td>\n",
       "      <td>[GCT, GCC, GCA]</td>\n",
       "    </tr>\n",
       "    <tr>\n",
       "      <th>62</th>\n",
       "      <td>GAG</td>\n",
       "      <td>E</td>\n",
       "      <td>0.44</td>\n",
       "      <td>29.0</td>\n",
       "      <td>2360</td>\n",
       "      <td>[GAA]</td>\n",
       "    </tr>\n",
       "    <tr>\n",
       "      <th>63</th>\n",
       "      <td>GGG</td>\n",
       "      <td>G</td>\n",
       "      <td>0.10</td>\n",
       "      <td>5.8</td>\n",
       "      <td>468</td>\n",
       "      <td>[GGT, GGA, GGC]</td>\n",
       "    </tr>\n",
       "  </tbody>\n",
       "</table>\n",
       "<p>64 rows × 6 columns</p>\n",
       "</div>"
      ],
      "text/plain": [
       "   triplet amino_acid  fraction  frequency_per_thousand  count  \\\n",
       "0      TTT          F      0.54                    24.1   1963   \n",
       "1      TCT          S      0.29                    24.4   1983   \n",
       "2      TAT          Y      0.47                    16.0   1300   \n",
       "3      TGT          C      0.64                     7.7    626   \n",
       "4      TTC          F      0.46                    20.6   1675   \n",
       "..     ...        ...       ...                     ...    ...   \n",
       "59     GGA          G      0.33                    19.1   1550   \n",
       "60     GTG          V      0.19                    12.3    998   \n",
       "61     GCG          A      0.06                     3.9    314   \n",
       "62     GAG          E      0.44                    29.0   2360   \n",
       "63     GGG          G      0.10                     5.8    468   \n",
       "\n",
       "                 alternatives  \n",
       "0                       [TTC]  \n",
       "1   [TCC, TCA, AGT, TCG, AGC]  \n",
       "2                       [TAC]  \n",
       "3                       [TGC]  \n",
       "4                       [TTT]  \n",
       "..                        ...  \n",
       "59            [GGT, GGC, GGG]  \n",
       "60            [GTT, GTC, GTA]  \n",
       "61            [GCT, GCC, GCA]  \n",
       "62                      [GAA]  \n",
       "63            [GGT, GGA, GGC]  \n",
       "\n",
       "[64 rows x 6 columns]"
      ]
     },
     "execution_count": 15,
     "metadata": {},
     "output_type": "execute_result"
    }
   ],
   "source": [
    "codon_alternatives = (codon_table\n",
    "    .sort_values(by=\"fraction\",ascending=False)\n",
    "    .groupby(\"amino_acid\")[\"triplet\"]\n",
    "    .agg(list).to_dict())\n",
    "\n",
    "def get_codon_alternatives(row:pd.Series) -> list:\n",
    "    \"\"\"Include alternatives for each codon in the table.\n",
    "    If no alternatives, return the triplet itself.\"\"\"\n",
    "    amino_acid, triplet = row[[\"amino_acid\", \"triplet\"]]\n",
    "    if len(codon_alternatives[amino_acid]) > 1:\n",
    "        return [cod for cod in codon_alternatives[amino_acid] if cod != triplet]\n",
    "    else:\n",
    "        return [triplet]\n",
    "\n",
    "codon_table[\"alternatives\"] = codon_table.apply(get_codon_alternatives, axis=1)\n",
    "codon_table\n"
   ]
  },
  {
   "cell_type": "code",
   "execution_count": 16,
   "id": "1a601a78",
   "metadata": {},
   "outputs": [
    {
     "name": "stdout",
     "output_type": "stream",
     "text": [
      "Original sequence: ATGTACGAAAGATGTGAAGTTTCTTTGTTGGCGATTTTCTTGCAGCGCGATCGCGGTCGGAAAGTAATTTGGCTCACGGTTGGACTCATAACGGTGATATTGGTAATAATAAAGATTTCATCCAGCAAGTCCACCGCCACAGACCTTCAGAAAGTATTGAAGAATGCCAATATTTTACCGCAGGACGTGATCAATTACAATAGCAGAAAAGTAACGGATGAACTCGCTTCAAAGCTGGACGAGATTCAAAAGAAGTATCTCTCGAAGCAAGATGATAGAATTAGCAAGCTCGAAGCTGAACGGGCAGATCTACTGGAACAGGTTAGATTTCTAAGGAACCCCCCTGCAGGATCAAGTTTAAGAGAAAAATTGGCTTATCTGTTTCCTTATAATGAAAACGGCAAATTCCCTGCTTATATATGGCAAACATGGAAGTATGGCTTGAATGACGATCGGTTTGGAGAAAAGTTCAAAGAAGGCGAAACTCAGTGGGCTTCGAAGAATCCTGGTTTCGTTCATGAGTTGTTTAACGATGATACTTCCGGTGTGTTTATTCACCATCTGTATATCAATGTTCCAGAAGTGATCAAAGCATACGAGCTGCTTCCCAACATAATCTTGAAAATGGACTTCTTCAGATATTTGGTTTTATACGCCAAGGGAGGTGTCTATGCAGACGTTGATACTATGCCTCTTCAGCCTGTACCAAACTGGATTCCTGAAAATGTCTCCCCAAAAAGCATCGGGATGATCATTGGAATACAAAACGATGCTAACAATCCAGATTGGAAAAAAGATTACGTACATCGTCTACAATTTTCCAATTGGTGTATTCAAGCGAAGCCTGGTCACCCAATCTTGAGAGAATTAATCGCCAAAATCACAGAGGATACACTGCAACGAGCCGAGTCAAACTCACTGGAACTAGCTGACATTAGCGAAGAAGGCGGCCTGTCTGATAAGAATTTGTCCATTATGCAATGGACGGGTACTGGTATTTTTACAGATGCCATATTTACCTATTTTAATGACTACATTCAAAGTAGTATCTATACCAAAGTTACTTGGAAAGAATTCTCCAAATTGAGAAAGCCCAAGCTTGTCAGTGATGTATTGGTACTGCCGATTATCAGCTTCTCGGCCGGTGCAGGTAGTGGAAAATCGACTGAACTGAACGATCCCTTAGCATTCGTACAACATTATTTTGAAAGATTACATAACGACAACCACTAA\n",
      "New sequence: ATGTATGAGCGTTGCGAGGTCTCCCTTCTTGCTATCTTTCTTCAAAGAGACAGAGGAAGAAAGGTTATCTGGTTGACTGTCGGTTTGATTACTGTTATTCTTGTTATTATTAAAATCTCTTCTTCTAAATCTACTGCTACTGATTTGCAAAAGGTTCTTAAAAACGCTAACATCTTGCCACAAGATGTTATTAACTATAACTCTCGTAAGGTTACTGACGAGTTGGCCTCTAAATTGGATGAAATCCAGAAAAAATACTTGTCTAAACAGGACGACCGTATCTCTAAATTGGAGGCCGAGAGAGCTGACTTGTTGGAGCAAGTCCGTTTCTTGAGAAATCCACCAGCTGGTTCTTCTTTGCGTGAGAAGCTTGCCTACTTGTTCCCATACAACGAGAATGGTAAGTTTCCAGCCTACATTTGGCAGACTTGGAAATACGGTCTTAACGATGACAGATTCGGTGAGAAATTTAAGGAGGGTGAGACCCAATGGGCCTCTAAAAACCCAGGATTTGTCCACGAACTTTTCAATGACGACACCTCTGGAGTTTTCATCCATCACTTGTACATTAACGTCCCTGAGGTTATTAAGGCTTATGAATTGTTGCCAAATATTATTCTTAAGATGGATTTTTTTCGTTACCTTGTCTTGTATGCTAAAGGTGGAGTTTACGCTGATGTCGACACCATGCCATTGCAACCAGTTCCTAATTGGATCCCAGAGAACGTTTCTCCTAAGTCTATTGGTATGATTATCGGTATTCAGAATGACGCCAATAACCCTGACTGGAAGAAGGACTATGTTCACAGATTGCAGTTCTCTAACTGGTGCATCCAGGCTAAACCAGGACATCCTATTCTTCGTGAGTTGATTGCTAAGATTACTGAAGACACTTTGCAGAGAGCTGAATCTAATTCTTTGGAGTTGGCCGATATCTCTGAGGAGGGTGGTTTGTCCGACAAAAACCTTTCTATCATGCAGTGGACTGGAACCGGAATCTTCACTGACGCTATTTTCACTTACTTCAACGATTATATCCAGTCTTCTATTTACACTAAGGTCACCTGGAAGGAGTTTTCTAAGCTTCGTAAACCAAAATTGGTTTCTGACGTTCTTGTTTTGCCAATCATTTCTTTTTCTGCTGGAGCTGGATCTGGTAAGTCTACCGAGTTGAATGACCCATTGGCTTTTGTTCAGCACTACTTCGAGCGTTTGCACAATGATAATCATTAG\n"
     ]
    }
   ],
   "source": [
    "def recode_sequence (sequence:str, codon_table:pd.DataFrame)->str:\n",
    "    \"\"\"Encode the least homologous sequence (use new codon when available).\"\"\"\n",
    "    new_sequence =\"\"\n",
    "    for start in range(0, len(original_dna), 3):\n",
    "        codon = original_dna[start:start + 3]\n",
    "\n",
    "        new_codon = codon_table[codon_table[\"triplet\"] == codon][\"alternatives\"].iloc[0]\n",
    "\n",
    "        new_sequence += new_codon[0]\n",
    "    return new_sequence\n",
    "\n",
    "new_sequence = recode_sequence(original_dna, codon_table)\n",
    "print(f\"Original sequence: {original_dna}\")\n",
    "print(f\"New sequence: {new_sequence}\")"
   ]
  },
  {
   "cell_type": "code",
   "execution_count": 17,
   "id": "4e2a4f85",
   "metadata": {},
   "outputs": [
    {
     "name": "stdout",
     "output_type": "stream",
     "text": [
      "Similarity: 63.02%\n"
     ]
    }
   ],
   "source": [
    "similarity = 0\n",
    "for i in range(len(original_dna)):\n",
    "    if original_dna[i] == new_sequence[i]:\n",
    "        similarity += 1\n",
    "print(f\"Similarity: {similarity / len(original_dna) * 100:.2f}%\")"
   ]
  },
  {
   "cell_type": "markdown",
   "id": "10a7ac4c",
   "metadata": {},
   "source": [
    "Compare codon usage goodness."
   ]
  },
  {
   "cell_type": "code",
   "execution_count": null,
   "id": "a559d61d",
   "metadata": {},
   "outputs": [
    {
     "name": "stdout",
     "output_type": "stream",
     "text": [
      "Original frequency: 21.02 per thousand\n",
      "New frequency: 23.58 per thousand\n"
     ]
    }
   ],
   "source": [
    "def get_frequency(dna_seq:str)-> float:\n",
    "    \"\"\"Return average codon frequency per thousand of the sequence.\"\"\"\n",
    "    frequency = 0\n",
    "    for start in range(0, len(dna_seq), 3):\n",
    "        codon = dna_seq[start:start + 3]\n",
    "        frequency += codon_table[codon_table[\"triplet\"] == codon][\"frequency_per_thousand\"].iloc[0]\n",
    "    return frequency/ len(dna_seq) * 3\n",
    "\n",
    "original_frequency = get_frequency(original_dna)\n",
    "new_frequency = get_frequency(new_sequence)\n",
    "\n",
    "print(f\"Original frequency: {original_frequency:.2f} per thousand\")\n",
    "print(f\"New frequency: {new_frequency:.2f} per thousand\")"
   ]
  },
  {
   "cell_type": "markdown",
   "id": "eac569c6",
   "metadata": {},
   "source": [
    "Check goodness of codon optimised sequence"
   ]
  },
  {
   "cell_type": "code",
   "execution_count": 9,
   "id": "8913d081",
   "metadata": {},
   "outputs": [
    {
     "data": {
      "text/plain": [
       "np.float64(22.160340632603415)"
      ]
     },
     "execution_count": 9,
     "metadata": {},
     "output_type": "execute_result"
    }
   ],
   "source": [
    "optimised_sequence = \"ATGTATGAAAGATGTGAAGTTTCTCTCCTTGCTATATTTTTGCAACGTGATCGAGGAAGGAAAGTAATTTGGTTAACGGTTGGACTTATAACTGTGATATTAGTTATAATAAAGATTTCATCCTCCAAATCCACAGCTACAGACTTACAGAAAGTATTGAAGAATGCGAATATATTACCACAAGATGTCATCAATTATAATTCAAGAAAAGTAACCGATGAATTGGCTTCAAAACTTGATGAGATTCAAAAAAAGTATCTCAGTAAACAAGATGATAGAATTTCTAAATTGGAAGCTGAAAGAGCCGATCTATTGGAACAAGTTAGATTTTTGAGGAATCCTCCTGCTGGTTCTAGTTTAAGAGAAAAATTGGCTTATCTATTTCCTTATAATGAAAACGGGAAATTTCCAGCATATATTTGGCAAACTTGGAAATATGGCTTAAATGATGATCGTTTTGGAGAAAAATTCAAAGAAGGCGAAACTCAGTGGGCTTCAAAAAATCCAGGTTTTGTTCATGAACTTTTTAATGATGATACTTCTGGTGTGTTTATTCACCATTTGTATATCAATGTTCCAGAAGTAATTAAAGCATATGAATTGCTTCCCAATATAATATTGAAAATGGATTTTTTTAGATATTTGGTTTTATACGCCAAGGGAGGTGTTTATGCAGACGTTGATACTATGCCTCTTCAACCTGTGCCAAATTGGATTCCAGAAAATGTTTCGCCTAAATCTATCGGAATGATTATAGGAATACAAAACGATGCTAATAATCCAGATTGGAAAAAAGATTACGTACATAGATTACAATTTAGTAATTGGTGTATTCAAGCTAAACCTGGACATCCAATATTGAGAGAATTAATCGCCAAAATTACAGAGGATACCTTACAACGTGCCGAGTCAAATTCTTTAGAACTAGCTGATATTAGTGAAGAAGGTGGTTTATCTGATAAGAATCTTTCCATAATGCAATGGACTGGTACAGGAATTTTTACAGACGCAATATTTACTTATTTTAATGATTATATTCAAAGTAGTATTTATACCAAAGTTACATGGAAAGAATTTTCCAAATTGAGAAAACCGAAGCTAGTCTCAGATGTATTGGTATTACCTATTATTAGCTTCTCTGCCGGTGCAGGTTCTGGTAAATCGACTGAACTGAACGATCCTTTAGCATTTGTACAACATTATTTTGAAAGATTACATAATGACAACCACTAA\"\n",
    "pichia_optimised_goodness = get_frequency(optimised_sequence)\n",
    "pichia_optimised_goodness"
   ]
  }
 ],
 "metadata": {
  "kernelspec": {
   "display_name": "iGEM",
   "language": "python",
   "name": "python3"
  },
  "language_info": {
   "codemirror_mode": {
    "name": "ipython",
    "version": 3
   },
   "file_extension": ".py",
   "mimetype": "text/x-python",
   "name": "python",
   "nbconvert_exporter": "python",
   "pygments_lexer": "ipython3",
   "version": "3.12.11"
  }
 },
 "nbformat": 4,
 "nbformat_minor": 5
}
