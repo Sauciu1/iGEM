{
 "cells": [
  {
   "cell_type": "code",
   "execution_count": null,
   "id": "410666c7",
   "metadata": {},
   "outputs": [],
   "source": [
    "import time\n",
    "import matplotlib.image as mpimg\n",
    "import matplotlib.pyplot as plt\n",
    "import pymol\n",
    "from pymol import cmd\n",
    "import pandas as pd\n",
    "\n",
    "pymol.finish_launching()\n",
    "time.sleep(5)\n",
    "cmd.do(\"cd data/GF\")"
   ]
  },
  {
   "cell_type": "markdown",
   "id": "d09c21e3",
   "metadata": {},
   "source": [
    "# HGF comparison"
   ]
  },
  {
   "cell_type": "code",
   "execution_count": null,
   "id": "75c07ad4",
   "metadata": {},
   "outputs": [],
   "source": [
    "# Load our alphafold HGF\n",
    "cmd.load(\"fold_hgf_bovine_cds_optimised_model_0.cif\", \"hgf_our\")\n",
    "cmd.color(\"red\", \"hgf_our\")\n",
    "\n",
    "# Load human HGF from UniProt\n",
    "uniprot_acc = \"Q76BS1\"\n",
    "cmd.do(f\"fetchAF2 {uniprot_acc}, hgf_bovine\")\n",
    "cmd.color(\"green\", \"hgf_bovine\")\n",
    "cmd.align(\"hgf_bovine\", \"hgf_our\")\n",
    "\n",
    "# Load mouse HGF from UniProt\n",
    "uniprot_acc = \"P14210\"\n",
    "cmd.do(f\"fetchAF2 {uniprot_acc}, hgf_human\")\n",
    "cmd.color(\"blue\", \"hgf_human\")\n",
    "cmd.align(\"hgf_human\", \"hgf_our\")"
   ]
  },
  {
   "cell_type": "markdown",
   "id": "72463d0a",
   "metadata": {},
   "source": [
    "# IGF1 protein"
   ]
  },
  {
   "cell_type": "code",
   "execution_count": null,
   "id": "e163cf78",
   "metadata": {},
   "outputs": [],
   "source": [
    "cmd.load(\"fold_igf_wrong_model_0.cif\", \"igf1_our\")\n",
    "cmd.color(\"red\", \"igf1_our\")"
   ]
  },
  {
   "cell_type": "code",
   "execution_count": null,
   "id": "21dcad4d",
   "metadata": {},
   "outputs": [],
   "source": [
    "# Load bovine IGF1 from UniProt\n",
    "uniprot_acc = \"P07455\"\n",
    "cmd.do(f\"fetchAF2 {uniprot_acc}, igf1_bovine\")\n",
    "cmd.color(\"green\", \"igf1_bovine\")\n",
    "cmd.align(\"igf1_bovine\", \"igf_our\")"
   ]
  }
 ],
 "metadata": {
  "kernelspec": {
   "display_name": "iGEM",
   "language": "python",
   "name": "python3"
  },
  "language_info": {
   "codemirror_mode": {
    "name": "ipython",
    "version": 3
   },
   "file_extension": ".py",
   "mimetype": "text/x-python",
   "name": "python",
   "nbconvert_exporter": "python",
   "pygments_lexer": "ipython3",
   "version": "3.12.11"
  }
 },
 "nbformat": 4,
 "nbformat_minor": 5
}
